{
 "cells": [
  {
   "cell_type": "code",
   "execution_count": 0,
   "metadata": {
    "application/vnd.databricks.v1+cell": {
     "cellMetadata": {
      "byteLimit": 2048000,
      "rowLimit": 10000
     },
     "inputWidgets": {},
     "nuid": "9f15dfe4-ff87-45de-bcca-3c59d54518e1",
     "showTitle": false,
     "tableResultSettingsMap": {},
     "title": ""
    }
   },
   "outputs": [],
   "source": [
    "# 00_config_auth — autenticação via SAS guardado no Secret Scope (job-safe)\n",
    "\n",
    "# --- parâmetros (podem ser sobrescritos pelo Job via \"Parameters\") ---\n",
    "# Se preferir, edite aqui os valores padrão.\n",
    "try:\n",
    "    dbutils.widgets.get               # garante que widgets existem\n",
    "except:\n",
    "    pass\n",
    "\n",
    "def _wget(name, default):\n",
    "    try:\n",
    "        dbutils.widgets.text(name, default)\n",
    "    except:\n",
    "        # widget já existia\n",
    "        pass\n",
    "    return dbutils.widgets.get(name)\n",
    "\n",
    "acc   = _wget(\"storage_account\", \"stgflowdev001\")        # sem .dfs\n",
    "scope = _wget(\"secret_scope\",    \"meu_scope\")\n",
    "key   = _wget(\"secret_key\",      \"sas-stgflowdev001\")\n",
    "\n",
    "# --- lê o SAS do Secret Scope ---\n",
    "try:\n",
    "    sas_raw = dbutils.secrets.get(scope, key)\n",
    "except Exception as e:\n",
    "    raise Exception(\n",
    "        f\"[Auth] Falha ao ler secret: scope='{scope}', key='{key}'. \"\n",
    "        \"Verifique se o scope e a chave existem e se você tem permissão.\"\n",
    "    ) from e\n",
    "\n",
    "# --- limpa o SAS (remove quebras de linha/espaços e '?' inicial, se houver) ---\n",
    "sas = sas_raw.strip().replace(\"\\n\", \"\").replace(\"\\r\", \"\")\n",
    "if sas.startswith(\"?\"):\n",
    "    sas = sas[1:]\n",
    "\n",
    "if not sas.startswith(\"sv=\"):\n",
    "    raise ValueError(\n",
    "        \"[Auth] O valor do SAS não parece válido (não inicia com 'sv='). \"\n",
    "        \"Confira o segredo salvo no scope.\"\n",
    "    )\n",
    "\n",
    "# --- configura o Spark para usar SAS ---\n",
    "spark.conf.set(f\"fs.azure.account.auth.type.{acc}.dfs.core.windows.net\", \"SAS\")\n",
    "spark.conf.set(f\"fs.azure.sas.token.provider.type.{acc}.dfs.core.windows.net\",\n",
    "               \"org.apache.hadoop.fs.azurebfs.sas.FixedSASTokenProvider\")\n",
    "spark.conf.set(f\"fs.azure.sas.fixed.token.{acc}.dfs.core.windows.net\", sas)\n",
    "\n",
    "# --- caminhos base (para usar nas células seguintes) ---\n",
    "bronze_base = f\"abfss://bronze@{acc}.dfs.core.windows.net\"\n",
    "silver_base = f\"abfss://silver@{acc}.dfs.core.windows.net\"\n",
    "gold_base   = f\"abfss://gold@{acc}.dfs.core.windows.net\"\n",
    "\n",
    "print(\"[Auth] OK — SAS aplicado e caminhos definidos.\")\n"
   ]
  },
  {
   "cell_type": "code",
   "execution_count": 0,
   "metadata": {
    "application/vnd.databricks.v1+cell": {
     "cellMetadata": {
      "byteLimit": 2048000,
      "implicitDf": true,
      "rowLimit": 10000
     },
     "inputWidgets": {},
     "nuid": "2d0d057b-5b25-4049-bc25-6dd642e6273f",
     "showTitle": false,
     "tableResultSettingsMap": {},
     "title": ""
    }
   },
   "outputs": [],
   "source": [
    "%sql\n",
    "-- Célula 1 (SQL)\n",
    "CREATE OR REPLACE TEMP VIEW bronze_fx AS\n",
    "SELECT *\n",
    "FROM delta.`abfss://bronze@stgflowdev001.dfs.core.windows.net/fx_usdbrl/delta`;\n"
   ]
  },
  {
   "cell_type": "code",
   "execution_count": 0,
   "metadata": {
    "application/vnd.databricks.v1+cell": {
     "cellMetadata": {
      "byteLimit": 2048000,
      "implicitDf": true,
      "rowLimit": 10000
     },
     "inputWidgets": {},
     "nuid": "6c51ab39-667b-4d5a-bf6c-2fc6fe47a11b",
     "showTitle": false,
     "tableResultSettingsMap": {},
     "title": ""
    }
   },
   "outputs": [],
   "source": [
    "%sql\n",
    "-- Célula 2 (SQL)\n",
    "SELECT base, symbol, rate, ref_date, provider, ingestion_ts\n",
    "FROM bronze_fx\n",
    "ORDER BY ingestion_ts DESC\n",
    "LIMIT 20;\n"
   ]
  },
  {
   "cell_type": "code",
   "execution_count": 0,
   "metadata": {
    "application/vnd.databricks.v1+cell": {
     "cellMetadata": {
      "byteLimit": 2048000,
      "implicitDf": true,
      "rowLimit": 10000
     },
     "inputWidgets": {},
     "nuid": "3598d655-5e43-47bd-b34c-44138e9843db",
     "showTitle": false,
     "tableResultSettingsMap": {},
     "title": ""
    }
   },
   "outputs": [],
   "source": [
    "%sql\n",
    "-- Célula 3 (SQL)\n",
    "CREATE OR REPLACE TEMP VIEW silver_fx_stage AS\n",
    "SELECT\n",
    "  base,\n",
    "  symbol,\n",
    "  CAST(rate AS DOUBLE)          AS rate,\n",
    "  TO_DATE(ref_date)             AS ref_date,\n",
    "  COALESCE(provider,'unknown')  AS provider,\n",
    "  ingestion_ts\n",
    "FROM bronze_fx\n",
    "WHERE symbol = 'BRL'\n",
    "  AND base   = 'USD'\n",
    "  AND ref_date IS NOT NULL\n",
    "  AND rate IS NOT NULL\n",
    "  AND CAST(rate AS DOUBLE) > 0;\n"
   ]
  },
  {
   "cell_type": "code",
   "execution_count": 0,
   "metadata": {
    "application/vnd.databricks.v1+cell": {
     "cellMetadata": {
      "byteLimit": 2048000,
      "implicitDf": true,
      "rowLimit": 10000
     },
     "inputWidgets": {},
     "nuid": "ef1d9048-5838-4309-8b78-42063bd929f1",
     "showTitle": false,
     "tableResultSettingsMap": {},
     "title": ""
    }
   },
   "outputs": [],
   "source": [
    "%sql\n",
    "-- Célula 4 (SQL)\n",
    "CREATE OR REPLACE TEMP VIEW silver_fx_dedup AS\n",
    "WITH ranked AS (\n",
    "  SELECT *,\n",
    "         ROW_NUMBER() OVER (PARTITION BY ref_date ORDER BY ingestion_ts DESC) AS rn\n",
    "  FROM silver_fx_stage\n",
    ")\n",
    "SELECT base, symbol, rate, ref_date, provider, ingestion_ts\n",
    "FROM ranked\n",
    "WHERE rn = 1;\n"
   ]
  },
  {
   "cell_type": "code",
   "execution_count": 0,
   "metadata": {
    "application/vnd.databricks.v1+cell": {
     "cellMetadata": {
      "byteLimit": 2048000,
      "implicitDf": true,
      "rowLimit": 10000
     },
     "collapsed": true,
     "inputWidgets": {},
     "nuid": "b150dda5-4bc6-46d9-a9e3-8f5b1064a72d",
     "showTitle": false,
     "tableResultSettingsMap": {},
     "title": ""
    }
   },
   "outputs": [],
   "source": [
    "%sql\n",
    "-- Célula 5 (SQL)\n",
    "CREATE OR REPLACE TABLE delta.`abfss://silver@stgflowdev001.dfs.core.windows.net/fx_usdbrl/delta`\n",
    "USING delta\n",
    "PARTITIONED BY (year, month)\n",
    "AS\n",
    "SELECT\n",
    "  ref_date,\n",
    "  base,\n",
    "  symbol,\n",
    "  rate,\n",
    "  provider,\n",
    "  ingestion_ts,\n",
    "  YEAR(ref_date)  AS year,\n",
    "  MONTH(ref_date) AS month\n",
    "FROM silver_fx_dedup;\n"
   ]
  },
  {
   "cell_type": "code",
   "execution_count": 0,
   "metadata": {
    "application/vnd.databricks.v1+cell": {
     "cellMetadata": {
      "byteLimit": 2048000,
      "implicitDf": true,
      "rowLimit": 10000
     },
     "inputWidgets": {},
     "nuid": "d0e381ca-b960-42b6-a348-98535df8551c",
     "showTitle": false,
     "tableResultSettingsMap": {},
     "title": ""
    }
   },
   "outputs": [],
   "source": [
    "%sql\n",
    "-- Célula 6 (SQL)\n",
    "SELECT ref_date, base, symbol, rate, provider, ingestion_ts\n",
    "FROM delta.`abfss://silver@stgflowdev001.dfs.core.windows.net/fx_usdbrl/delta`\n",
    "ORDER BY ref_date DESC;\n"
   ]
  }
 ],
 "metadata": {
  "application/vnd.databricks.v1+notebook": {
   "computePreferences": null,
   "dashboards": [],
   "environmentMetadata": {
    "base_environment": "",
    "environment_version": "2"
   },
   "inputWidgetPreferences": null,
   "language": "python",
   "notebookMetadata": {
    "mostRecentlyExecutedCommandWithImplicitDF": {
     "commandId": 7092870115798277,
     "dataframes": [
      "_sqldf"
     ]
    },
    "pythonIndentUnit": 4
   },
   "notebookName": "02_transform_fx_usdbrl_silver",
   "widgets": {
    "secret_key": {
     "currentValue": "sas-stgflowdev001",
     "nuid": "f08a7920-811a-4203-bebb-f37576e925f8",
     "typedWidgetInfo": {
      "autoCreated": false,
      "defaultValue": "sas-stgflowdev001",
      "label": null,
      "name": "secret_key",
      "options": {
       "widgetDisplayType": "Text",
       "validationRegex": null
      },
      "parameterDataType": "String"
     },
     "widgetInfo": {
      "widgetType": "text",
      "defaultValue": "sas-stgflowdev001",
      "label": null,
      "name": "secret_key",
      "options": {
       "widgetType": "text",
       "autoCreated": false,
       "validationRegex": null
      }
     }
    },
    "secret_scope": {
     "currentValue": "meu_scope",
     "nuid": "3ebd439f-e05d-4ea7-b804-8838a78124f8",
     "typedWidgetInfo": {
      "autoCreated": false,
      "defaultValue": "meu_scope",
      "label": null,
      "name": "secret_scope",
      "options": {
       "widgetDisplayType": "Text",
       "validationRegex": null
      },
      "parameterDataType": "String"
     },
     "widgetInfo": {
      "widgetType": "text",
      "defaultValue": "meu_scope",
      "label": null,
      "name": "secret_scope",
      "options": {
       "widgetType": "text",
       "autoCreated": false,
       "validationRegex": null
      }
     }
    },
    "storage_account": {
     "currentValue": "stgflowdev001",
     "nuid": "5bd156c1-7f84-4455-bf5f-bec9f48942a1",
     "typedWidgetInfo": {
      "autoCreated": false,
      "defaultValue": "stgflowdev001",
      "label": null,
      "name": "storage_account",
      "options": {
       "widgetDisplayType": "Text",
       "validationRegex": null
      },
      "parameterDataType": "String"
     },
     "widgetInfo": {
      "widgetType": "text",
      "defaultValue": "stgflowdev001",
      "label": null,
      "name": "storage_account",
      "options": {
       "widgetType": "text",
       "autoCreated": false,
       "validationRegex": null
      }
     }
    }
   }
  },
  "language_info": {
   "name": "python"
  }
 },
 "nbformat": 4,
 "nbformat_minor": 0
}
