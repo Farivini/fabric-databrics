{
 "cells": [
  {
   "cell_type": "code",
   "execution_count": 0,
   "metadata": {
    "application/vnd.databricks.v1+cell": {
     "cellMetadata": {
      "byteLimit": 2048000,
      "implicitDf": true,
      "rowLimit": 10000
     },
     "inputWidgets": {},
     "nuid": "2d0d057b-5b25-4049-bc25-6dd642e6273f",
     "showTitle": false,
     "tableResultSettingsMap": {},
     "title": ""
    }
   },
   "outputs": [],
   "source": [
    "%sql\n",
    "-- Célula 1 (SQL)\n",
    "CREATE OR REPLACE TEMP VIEW bronze_fx AS\n",
    "SELECT *\n",
    "FROM delta.`abfss://bronze@stgflowdev001.dfs.core.windows.net/fx_usdbrl/delta`;\n"
   ]
  },
  {
   "cell_type": "code",
   "execution_count": 0,
   "metadata": {
    "application/vnd.databricks.v1+cell": {
     "cellMetadata": {
      "byteLimit": 2048000,
      "implicitDf": true,
      "rowLimit": 10000
     },
     "inputWidgets": {},
     "nuid": "6c51ab39-667b-4d5a-bf6c-2fc6fe47a11b",
     "showTitle": false,
     "tableResultSettingsMap": {},
     "title": ""
    }
   },
   "outputs": [],
   "source": [
    "%sql\n",
    "-- Célula 2 (SQL)\n",
    "SELECT base, symbol, rate, ref_date, provider, ingestion_ts\n",
    "FROM bronze_fx\n",
    "ORDER BY ingestion_ts DESC\n",
    "LIMIT 20;\n"
   ]
  },
  {
   "cell_type": "code",
   "execution_count": 0,
   "metadata": {
    "application/vnd.databricks.v1+cell": {
     "cellMetadata": {
      "byteLimit": 2048000,
      "implicitDf": true,
      "rowLimit": 10000
     },
     "inputWidgets": {},
     "nuid": "3598d655-5e43-47bd-b34c-44138e9843db",
     "showTitle": false,
     "tableResultSettingsMap": {},
     "title": ""
    }
   },
   "outputs": [],
   "source": [
    "%sql\n",
    "-- Célula 3 (SQL)\n",
    "CREATE OR REPLACE TEMP VIEW silver_fx_stage AS\n",
    "SELECT\n",
    "  base,\n",
    "  symbol,\n",
    "  CAST(rate AS DOUBLE)          AS rate,\n",
    "  TO_DATE(ref_date)             AS ref_date,\n",
    "  COALESCE(provider,'unknown')  AS provider,\n",
    "  ingestion_ts\n",
    "FROM bronze_fx\n",
    "WHERE symbol = 'BRL'\n",
    "  AND base   = 'USD'\n",
    "  AND ref_date IS NOT NULL\n",
    "  AND rate IS NOT NULL\n",
    "  AND CAST(rate AS DOUBLE) > 0;\n"
   ]
  },
  {
   "cell_type": "code",
   "execution_count": 0,
   "metadata": {
    "application/vnd.databricks.v1+cell": {
     "cellMetadata": {
      "byteLimit": 2048000,
      "implicitDf": true,
      "rowLimit": 10000
     },
     "inputWidgets": {},
     "nuid": "ef1d9048-5838-4309-8b78-42063bd929f1",
     "showTitle": false,
     "tableResultSettingsMap": {},
     "title": ""
    }
   },
   "outputs": [],
   "source": [
    "%sql\n",
    "-- Célula 4 (SQL)\n",
    "CREATE OR REPLACE TEMP VIEW silver_fx_dedup AS\n",
    "WITH ranked AS (\n",
    "  SELECT *,\n",
    "         ROW_NUMBER() OVER (PARTITION BY ref_date ORDER BY ingestion_ts DESC) AS rn\n",
    "  FROM silver_fx_stage\n",
    ")\n",
    "SELECT base, symbol, rate, ref_date, provider, ingestion_ts\n",
    "FROM ranked\n",
    "WHERE rn = 1;\n"
   ]
  },
  {
   "cell_type": "code",
   "execution_count": 0,
   "metadata": {
    "application/vnd.databricks.v1+cell": {
     "cellMetadata": {
      "byteLimit": 2048000,
      "implicitDf": true,
      "rowLimit": 10000
     },
     "collapsed": true,
     "inputWidgets": {},
     "nuid": "b150dda5-4bc6-46d9-a9e3-8f5b1064a72d",
     "showTitle": false,
     "tableResultSettingsMap": {},
     "title": ""
    }
   },
   "outputs": [],
   "source": [
    "%sql\n",
    "-- Célula 5 (SQL)\n",
    "CREATE OR REPLACE TABLE delta.`abfss://silver@stgflowdev001.dfs.core.windows.net/fx_usdbrl/delta`\n",
    "USING delta\n",
    "PARTITIONED BY (year, month)\n",
    "AS\n",
    "SELECT\n",
    "  ref_date,\n",
    "  base,\n",
    "  symbol,\n",
    "  rate,\n",
    "  provider,\n",
    "  ingestion_ts,\n",
    "  YEAR(ref_date)  AS year,\n",
    "  MONTH(ref_date) AS month\n",
    "FROM silver_fx_dedup;\n"
   ]
  },
  {
   "cell_type": "code",
   "execution_count": 0,
   "metadata": {
    "application/vnd.databricks.v1+cell": {
     "cellMetadata": {
      "byteLimit": 2048000,
      "implicitDf": true,
      "rowLimit": 10000
     },
     "inputWidgets": {},
     "nuid": "d0e381ca-b960-42b6-a348-98535df8551c",
     "showTitle": false,
     "tableResultSettingsMap": {},
     "title": ""
    }
   },
   "outputs": [],
   "source": [
    "%sql\n",
    "-- Célula 6 (SQL)\n",
    "SELECT ref_date, base, symbol, rate, provider, ingestion_ts\n",
    "FROM delta.`abfss://silver@stgflowdev001.dfs.core.windows.net/fx_usdbrl/delta`\n",
    "ORDER BY ref_date DESC;\n"
   ]
  }
 ],
 "metadata": {
  "application/vnd.databricks.v1+notebook": {
   "computePreferences": null,
   "dashboards": [],
   "environmentMetadata": {
    "base_environment": "",
    "environment_version": "2"
   },
   "inputWidgetPreferences": null,
   "language": "python",
   "notebookMetadata": {
    "mostRecentlyExecutedCommandWithImplicitDF": {
     "commandId": 7092870115798277,
     "dataframes": [
      "_sqldf"
     ]
    },
    "pythonIndentUnit": 4
   },
   "notebookName": "02_transform_fx_usdbrl_silver",
   "widgets": {}
  },
  "language_info": {
   "name": "python"
  }
 },
 "nbformat": 4,
 "nbformat_minor": 0
}
