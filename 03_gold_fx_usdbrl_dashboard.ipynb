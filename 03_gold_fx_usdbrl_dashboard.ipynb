{
 "cells": [
  {
   "cell_type": "code",
   "execution_count": 0,
   "metadata": {
    "application/vnd.databricks.v1+cell": {
     "cellMetadata": {
      "byteLimit": 2048000,
      "rowLimit": 10000
     },
     "inputWidgets": {},
     "nuid": "4e039cca-bc12-4f71-b130-200a5ae23c62",
     "showTitle": false,
     "tableResultSettingsMap": {},
     "title": ""
    }
   },
   "outputs": [],
   "source": [
    "# 00_config_auth — autenticação via SAS guardado no Secret Scope (job-safe)\n",
    "\n",
    "# --- parâmetros (podem ser sobrescritos pelo Job via \"Parameters\") ---\n",
    "# Se preferir, edite aqui os valores padrão.\n",
    "try:\n",
    "    dbutils.widgets.get               # garante que widgets existem\n",
    "except:\n",
    "    pass\n",
    "\n",
    "def _wget(name, default):\n",
    "    try:\n",
    "        dbutils.widgets.text(name, default)\n",
    "    except:\n",
    "        # widget já existia\n",
    "        pass\n",
    "    return dbutils.widgets.get(name)\n",
    "\n",
    "acc   = _wget(\"storage_account\", \"stgflowdev001\")        # sem .dfs\n",
    "scope = _wget(\"secret_scope\",    \"meu_scope\")\n",
    "key   = _wget(\"secret_key\",      \"sas-stgflowdev001\")\n",
    "\n",
    "# --- lê o SAS do Secret Scope ---\n",
    "try:\n",
    "    sas_raw = dbutils.secrets.get(scope, key)\n",
    "except Exception as e:\n",
    "    raise Exception(\n",
    "        f\"[Auth] Falha ao ler secret: scope='{scope}', key='{key}'. \"\n",
    "        \"Verifique se o scope e a chave existem e se você tem permissão.\"\n",
    "    ) from e\n",
    "\n",
    "# --- limpa o SAS (remove quebras de linha/espaços e '?' inicial, se houver) ---\n",
    "sas = sas_raw.strip().replace(\"\\n\", \"\").replace(\"\\r\", \"\")\n",
    "if sas.startswith(\"?\"):\n",
    "    sas = sas[1:]\n",
    "\n",
    "if not sas.startswith(\"sv=\"):\n",
    "    raise ValueError(\n",
    "        \"[Auth] O valor do SAS não parece válido (não inicia com 'sv='). \"\n",
    "        \"Confira o segredo salvo no scope.\"\n",
    "    )\n",
    "\n",
    "# --- configura o Spark para usar SAS ---\n",
    "spark.conf.set(f\"fs.azure.account.auth.type.{acc}.dfs.core.windows.net\", \"SAS\")\n",
    "spark.conf.set(f\"fs.azure.sas.token.provider.type.{acc}.dfs.core.windows.net\",\n",
    "               \"org.apache.hadoop.fs.azurebfs.sas.FixedSASTokenProvider\")\n",
    "spark.conf.set(f\"fs.azure.sas.fixed.token.{acc}.dfs.core.windows.net\", sas)\n",
    "\n",
    "# --- caminhos base (para usar nas células seguintes) ---\n",
    "bronze_base = f\"abfss://bronze@{acc}.dfs.core.windows.net\"\n",
    "silver_base = f\"abfss://silver@{acc}.dfs.core.windows.net\"\n",
    "gold_base   = f\"abfss://gold@{acc}.dfs.core.windows.net\"\n",
    "\n",
    "print(\"[Auth] OK — SAS aplicado e caminhos definidos.\")\n"
   ]
  },
  {
   "cell_type": "code",
   "execution_count": 0,
   "metadata": {
    "application/vnd.databricks.v1+cell": {
     "cellMetadata": {
      "byteLimit": 2048000,
      "implicitDf": true,
      "rowLimit": 10000
     },
     "inputWidgets": {},
     "nuid": "4568b40b-383b-4ebd-9d0b-0e45da21aa2e",
     "showTitle": false,
     "tableResultSettingsMap": {},
     "title": ""
    }
   },
   "outputs": [],
   "source": [
    "%sql\n",
    "-- lêr dados curados do Silver\n",
    "CREATE OR REPLACE TEMP VIEW silver_fx AS\n",
    "SELECT *\n",
    "FROM delta.`abfss://silver@stgflowdev001.dfs.core.windows.net/fx_usdbrl/delta`;\n"
   ]
  },
  {
   "cell_type": "code",
   "execution_count": 0,
   "metadata": {
    "application/vnd.databricks.v1+cell": {
     "cellMetadata": {
      "byteLimit": 2048000,
      "implicitDf": true,
      "rowLimit": 10000
     },
     "inputWidgets": {},
     "nuid": "6d56d362-7e35-49e1-985b-b4d6dccf6126",
     "showTitle": false,
     "tableResultSettingsMap": {},
     "title": ""
    }
   },
   "outputs": [],
   "source": [
    "%sql\n",
    "CREATE OR REPLACE TEMP VIEW gold_fx_stage AS\n",
    "WITH base AS (\n",
    "  SELECT\n",
    "    ref_date,\n",
    "    base,\n",
    "    symbol,\n",
    "    CAST(rate AS DOUBLE) AS rate,\n",
    "    provider,\n",
    "    ingestion_ts\n",
    "  FROM silver_fx\n",
    "),\n",
    "win AS (\n",
    "  SELECT\n",
    "    *,\n",
    "    LAG(rate) OVER (ORDER BY ref_date)                                         AS rate_prev,\n",
    "    AVG(rate) OVER (ORDER BY ref_date ROWS BETWEEN 6  PRECEDING AND CURRENT ROW) AS ma7,\n",
    "    AVG(rate) OVER (ORDER BY ref_date ROWS BETWEEN 29 PRECEDING AND CURRENT ROW) AS ma30\n",
    "  FROM base\n",
    ")\n",
    "SELECT\n",
    "  ref_date,\n",
    "  base,\n",
    "  symbol,\n",
    "  rate,\n",
    "  rate_prev,\n",
    "  (rate - rate_prev) AS rate_d1_change,\n",
    "  ma7,\n",
    "  ma30,\n",
    "  provider,\n",
    "  ingestion_ts,\n",
    "  CURRENT_TIMESTAMP() AS snapshot_ts,\n",
    "  YEAR(ref_date)      AS year,\n",
    "  MONTH(ref_date)     AS month\n",
    "FROM win;\n"
   ]
  },
  {
   "cell_type": "code",
   "execution_count": 0,
   "metadata": {
    "application/vnd.databricks.v1+cell": {
     "cellMetadata": {
      "byteLimit": 2048000,
      "implicitDf": true,
      "rowLimit": 10000
     },
     "inputWidgets": {},
     "nuid": "82d0f484-5c0f-4f1a-a081-94d7445940ad",
     "showTitle": false,
     "tableResultSettingsMap": {},
     "title": ""
    }
   },
   "outputs": [],
   "source": [
    "%sql\n",
    "CREATE TABLE IF NOT EXISTS delta.`abfss://gold@stgflowdev001.dfs.core.windows.net/fx_usdbrl/metrics_delta`\n",
    "(\n",
    "  ref_date        DATE,\n",
    "  base            STRING,\n",
    "  symbol          STRING,\n",
    "  rate            DOUBLE,\n",
    "  rate_prev       DOUBLE,\n",
    "  rate_d1_change  DOUBLE,\n",
    "  ma7             DOUBLE,\n",
    "  ma30            DOUBLE,\n",
    "  provider        STRING,\n",
    "  ingestion_ts    TIMESTAMP,\n",
    "  snapshot_ts     TIMESTAMP,\n",
    "  year            INT,\n",
    "  month           INT\n",
    ")\n",
    "USING delta\n",
    "PARTITIONED BY (year, month);\n"
   ]
  },
  {
   "cell_type": "code",
   "execution_count": 0,
   "metadata": {
    "application/vnd.databricks.v1+cell": {
     "cellMetadata": {
      "byteLimit": 2048000,
      "implicitDf": true,
      "rowLimit": 10000
     },
     "inputWidgets": {},
     "nuid": "f8d0c130-dc9b-40b4-a507-492f97d43fbe",
     "showTitle": false,
     "tableResultSettingsMap": {},
     "title": ""
    }
   },
   "outputs": [],
   "source": [
    "%sql\n",
    "MERGE INTO delta.`abfss://gold@stgflowdev001.dfs.core.windows.net/fx_usdbrl/metrics_delta` AS t\n",
    "USING gold_fx_stage AS s\n",
    "ON  t.ref_date = s.ref_date\n",
    "AND t.base     = s.base\n",
    "AND t.symbol   = s.symbol\n",
    "WHEN MATCHED THEN UPDATE SET\n",
    "  t.rate           = s.rate,\n",
    "  t.rate_prev      = s.rate_prev,\n",
    "  t.rate_d1_change = s.rate_d1_change,\n",
    "  t.ma7            = s.ma7,\n",
    "  t.ma30           = s.ma30,\n",
    "  t.provider       = s.provider,\n",
    "  t.ingestion_ts   = s.ingestion_ts,\n",
    "  t.snapshot_ts    = s.snapshot_ts,\n",
    "  t.year           = s.year,\n",
    "  t.month          = s.month\n",
    "WHEN NOT MATCHED THEN INSERT *\n",
    ";\n"
   ]
  },
  {
   "cell_type": "code",
   "execution_count": 0,
   "metadata": {
    "application/vnd.databricks.v1+cell": {
     "cellMetadata": {
      "byteLimit": 2048000,
      "implicitDf": true,
      "rowLimit": 10000
     },
     "inputWidgets": {},
     "nuid": "1d7863c3-1e66-443c-ad69-fc4fa98b4e47",
     "showTitle": false,
     "tableResultSettingsMap": {},
     "title": ""
    }
   },
   "outputs": [
    {
     "output_type": "display_data",
     "data": {
      "text/plain": [
       "Databricks visualization. Run in Databricks to view."
      ]
     },
     "metadata": {
      "application/vnd.databricks.v1.subcommand+json": {
       "baseErrorDetails": null,
       "bindings": {},
       "collapsed": false,
       "command": "%sql WITH q AS (SELECT ref_date, base, symbol, rate, rate_prev, rate_d1_change, ma7, ma30, provider\nFROM delta.`abfss://gold@stgflowdev001.dfs.core.windows.net/fx_usdbrl/metrics_delta`\nORDER BY ref_date DESC\nLIMIT 50) SELECT DATE_TRUNC('DAY',`ref_date`) `column_6dd08b87161`,`rate` FROM q GROUP BY `column_6dd08b87161`,`rate`",
       "commandTitle": "Visualização 1",
       "commandType": "auto",
       "commandVersion": 0,
       "commentThread": [],
       "commentsVisible": false,
       "contentSha256Hex": null,
       "customPlotOptions": {
        "redashChart": [
         {
          "key": "type",
          "value": "CHART"
         },
         {
          "key": "options",
          "value": {
           "alignYAxesAtZero": true,
           "coefficient": 1,
           "columnConfigurationMap": {
            "series": {
             "column": "rate",
             "id": "column_6dd08b87160"
            },
            "x": {
             "column": "ref_date",
             "id": "column_6dd08b87161",
             "transform": "DAY_LEVEL"
            },
            "y": []
           },
           "dateTimeFormat": "DD/MM/YYYY HH:mm",
           "direction": {
            "type": "counterclockwise"
           },
           "error_y": {
            "type": "data",
            "visible": true
           },
           "globalSeriesType": "line",
           "legend": {
            "traceorder": "normal"
           },
           "missingValuesAsZero": true,
           "numberFormat": "0,0.[00000]",
           "percentFormat": "0[.]00%",
           "series": {
            "error_y": {
             "type": "data",
             "visible": true
            },
            "percentValues": true,
            "stacking": null
           },
           "seriesOptions": {},
           "showDataLabels": false,
           "sizemode": "diameter",
           "sortX": true,
           "sortY": true,
           "swappedAxes": false,
           "textFormat": "",
           "useAggregationsUi": true,
           "valuesOptions": {},
           "version": 2,
           "xAxis": {
            "labels": {
             "enabled": true
            },
            "type": "-"
           },
           "yAxis": [
            {
             "type": "-"
            },
            {
             "opposite": true,
             "type": "-"
            }
           ]
          }
         }
        ]
       },
       "datasetPreviewNameToCmdIdMap": {},
       "diffDeletes": [],
       "diffInserts": [],
       "displayType": "redashChart",
       "error": null,
       "errorDetails": null,
       "errorSummary": null,
       "errorTraceType": null,
       "finishTime": 0,
       "globalVars": {},
       "guid": "",
       "height": "auto",
       "hideCommandCode": false,
       "hideCommandResult": false,
       "iPythonMetadata": null,
       "inputWidgets": {},
       "isLockedInExamMode": false,
       "latestUser": "a user",
       "latestUserId": null,
       "listResultMetadata": null,
       "metadata": {},
       "nuid": "0b0e33e2-1c1a-4524-914a-d4b5e46d9872",
       "origId": 0,
       "parentHierarchy": [],
       "pivotAggregation": null,
       "pivotColumns": null,
       "position": 7.0,
       "resultDbfsErrorMessage": null,
       "resultDbfsStatus": "INLINED_IN_TREE",
       "results": null,
       "showCommandTitle": false,
       "startTime": 0,
       "state": "input",
       "streamStates": {},
       "subcommandOptions": {
        "queryPlan": {
         "groups": [
          {
           "column": "column_6dd08b87161",
           "type": "column"
          },
          {
           "column": "rate",
           "type": "column"
          }
         ],
         "selects": [
          {
           "alias": "column_6dd08b87161",
           "args": [
            {
             "column": "ref_date",
             "type": "column"
            },
            {
             "string": "DAY",
             "type": "string"
            }
           ],
           "function": "DATE_TRUNC",
           "type": "function"
          },
          {
           "column": "rate",
           "type": "column"
          }
         ]
        }
       },
       "submitTime": 0,
       "subtype": "tableResultSubCmd.visualization",
       "tableResultIndex": 0,
       "tableResultSettingsMap": {},
       "useConsistentColors": false,
       "version": "CommandV1",
       "width": "auto",
       "workflows": null,
       "xColumns": null,
       "yColumns": null
      }
     },
     "output_type": "display_data"
    }
   ],
   "source": [
    "%sql\n",
    "SELECT ref_date, base, symbol, rate, rate_prev, rate_d1_change, ma7, ma30, provider\n",
    "FROM delta.`abfss://gold@stgflowdev001.dfs.core.windows.net/fx_usdbrl/metrics_delta`\n",
    "ORDER BY ref_date DESC\n",
    "LIMIT 50;\n"
   ]
  }
 ],
 "metadata": {
  "application/vnd.databricks.v1+notebook": {
   "computePreferences": null,
   "dashboards": [],
   "environmentMetadata": {
    "base_environment": "",
    "environment_version": "2"
   },
   "inputWidgetPreferences": null,
   "language": "python",
   "notebookMetadata": {
    "mostRecentlyExecutedCommandWithImplicitDF": {
     "commandId": 7092870115798284,
     "dataframes": [
      "_sqldf"
     ]
    },
    "pythonIndentUnit": 4
   },
   "notebookName": "03_gold_fx_usdbrl_dashboard",
   "widgets": {
    "secret_key": {
     "currentValue": "sas-stgflowdev001",
     "nuid": "412d2370-09ca-4aa8-9c47-6d6bda23c179",
     "typedWidgetInfo": {
      "autoCreated": false,
      "defaultValue": "sas-stgflowdev001",
      "label": null,
      "name": "secret_key",
      "options": {
       "widgetDisplayType": "Text",
       "validationRegex": null
      },
      "parameterDataType": "String"
     },
     "widgetInfo": {
      "widgetType": "text",
      "defaultValue": "sas-stgflowdev001",
      "label": null,
      "name": "secret_key",
      "options": {
       "widgetType": "text",
       "autoCreated": false,
       "validationRegex": null
      }
     }
    },
    "secret_scope": {
     "currentValue": "meu_scope",
     "nuid": "5839350b-f788-41f2-b91b-7a60ca964f83",
     "typedWidgetInfo": {
      "autoCreated": false,
      "defaultValue": "meu_scope",
      "label": null,
      "name": "secret_scope",
      "options": {
       "widgetDisplayType": "Text",
       "validationRegex": null
      },
      "parameterDataType": "String"
     },
     "widgetInfo": {
      "widgetType": "text",
      "defaultValue": "meu_scope",
      "label": null,
      "name": "secret_scope",
      "options": {
       "widgetType": "text",
       "autoCreated": false,
       "validationRegex": null
      }
     }
    },
    "storage_account": {
     "currentValue": "stgflowdev001",
     "nuid": "5a14887a-9e64-4590-b888-40eb13c434bf",
     "typedWidgetInfo": {
      "autoCreated": false,
      "defaultValue": "stgflowdev001",
      "label": null,
      "name": "storage_account",
      "options": {
       "widgetDisplayType": "Text",
       "validationRegex": null
      },
      "parameterDataType": "String"
     },
     "widgetInfo": {
      "widgetType": "text",
      "defaultValue": "stgflowdev001",
      "label": null,
      "name": "storage_account",
      "options": {
       "widgetType": "text",
       "autoCreated": false,
       "validationRegex": null
      }
     }
    }
   }
  },
  "language_info": {
   "name": "python"
  }
 },
 "nbformat": 4,
 "nbformat_minor": 0
}
