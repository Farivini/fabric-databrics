{
 "cells": [
  {
   "cell_type": "code",
   "execution_count": 0,
   "metadata": {
    "application/vnd.databricks.v1+cell": {
     "cellMetadata": {
      "byteLimit": 2048000,
      "rowLimit": 10000
     },
     "inputWidgets": {},
     "nuid": "aa16b9a7-6547-4947-9ee4-30dec87c82a6",
     "showTitle": false,
     "tableResultSettingsMap": {},
     "title": ""
    }
   },
   "outputs": [],
   "source": [
    "import requests, json, time\n",
    "from pyspark.sql import functions as F\n",
    "from pyspark.sql.types import StructType, StructField, StringType, DoubleType\n",
    "\n",
    "bronze_base       = f\"abfss://bronze@{acc}.dfs.core.windows.net\"\n",
    "bronze_delta_path = f\"{bronze_base}/fx_usdbrl/delta\"\n",
    "\n",
    "def fetch_usd_brl():\n",
    "    # 1) Frankfurter\n",
    "    try:\n",
    "        r = requests.get(\"https://api.frankfurter.app/latest?from=USD&to=BRL\", timeout=10)\n",
    "        r.raise_for_status()\n",
    "        p = r.json()\n",
    "        rate = float(p[\"rates\"][\"BRL\"])\n",
    "        ref_date = p.get(\"date\")\n",
    "        base = p.get(\"base\", \"USD\")\n",
    "        return {\"provider\":\"frankfurter\", \"base\":base, \"rate\":rate, \"ref_date\":ref_date, \"raw\":p}\n",
    "    except Exception:\n",
    "        pass\n",
    "    # 2) Open ER-API\n",
    "    r = requests.get(\"https://open.er-api.com/v6/latest/USD\", timeout=10)\n",
    "    r.raise_for_status()\n",
    "    p = r.json()\n",
    "    if p.get(\"result\") != \"success\":\n",
    "        raise ValueError(f\"Provider ER-API error: {p}\")\n",
    "    rate = float(p[\"rates\"][\"BRL\"])\n",
    "    ref_date = p.get(\"time_last_update_utc\")  # timestamp amigável\n",
    "    return {\"provider\":\"er-api\", \"base\":\"USD\", \"rate\":rate, \"ref_date\":ref_date, \"raw\":p}\n",
    "\n",
    "data = fetch_usd_brl()\n",
    "assert data[\"rate\"] > 0, \"Taxa inválida\"\n",
    "\n",
    "record = [{\n",
    "    \"provider\": data[\"provider\"],\n",
    "    \"base\":     data[\"base\"],\n",
    "    \"symbol\":   \"BRL\",\n",
    "    \"rate\":     data[\"rate\"],\n",
    "    \"ref_date\": data[\"ref_date\"],\n",
    "    \"ingestion_epoch\": int(time.time()),\n",
    "    \"raw_json\": json.dumps(data[\"raw\"], ensure_ascii=False)\n",
    "}]\n",
    "\n",
    "schema = StructType([\n",
    "    StructField(\"provider\", StringType(), True),\n",
    "    StructField(\"base\", StringType(), True),\n",
    "    StructField(\"symbol\", StringType(), True),\n",
    "    StructField(\"rate\", DoubleType(), True),\n",
    "    StructField(\"ref_date\", StringType(), True),\n",
    "    StructField(\"ingestion_epoch\", StringType(), True),\n",
    "    StructField(\"raw_json\", StringType(), True),\n",
    "])\n",
    "\n",
    "df_bronze = spark.createDataFrame(record, schema)\\\n",
    "                 .withColumn(\"ingestion_ts\", F.current_timestamp())\n",
    "\n",
    "(df_bronze\n",
    " .write\n",
    " .format(\"delta\")\n",
    " .mode(\"append\")\n",
    " .option('mergeSchema', 'true').save(bronze_delta_path)\n",
    ")\n",
    "\n",
    "display(spark.read.format(\"delta\").load(bronze_delta_path).orderBy(F.col(\"ingestion_ts\").desc()))\n"
   ]
  },
  {
   "cell_type": "code",
   "execution_count": 0,
   "metadata": {
    "application/vnd.databricks.v1+cell": {
     "cellMetadata": {
      "byteLimit": 2048000,
      "rowLimit": 10000
     },
     "inputWidgets": {},
     "nuid": "f0d7f5d3-f087-468d-bf8e-fa2dbdf1ea8e",
     "showTitle": false,
     "tableResultSettingsMap": {},
     "title": ""
    }
   },
   "outputs": [],
   "source": [
    "import requests, json, time\n",
    "from pyspark.sql import functions as F\n",
    "from pyspark.sql.types import StructType, StructField, StringType, DoubleType, TimestampType\n",
    "\n",
    "# 1) Consulta HTTP (sem token)\n",
    "url = \"https://api.exchangerate.host/latest?base=USD&symbols=BRL\"\n",
    "resp = requests.get(url, timeout=10)\n",
    "resp.raise_for_status()\n",
    "payload = resp.json()\n",
    "\n",
    "# 2) Extrai campos principais\n",
    "# Exemplo de payload:\n",
    "# {\"base\":\"USD\",\"date\":\"2025-08-19\",\"rates\":{\"BRL\":5.27}, \"success\":true}\n",
    "base = payload.get(\"base\")\n",
    "date = payload.get(\"date\")\n",
    "rate = float(payload.get(\"rates\", {}).get(\"BRL\", 0.0))\n",
    "ingestion_ts = int(time.time())\n",
    "\n",
    "record = [{\n",
    "    \"base\": base,\n",
    "    \"symbol\": \"BRL\",\n",
    "    \"rate\": rate,\n",
    "    \"ref_date\": date,          # data de referência informada pela API\n",
    "    \"ingestion_epoch\": ingestion_ts,  # carimbo da coleta\n",
    "    \"raw_json\": json.dumps(payload, ensure_ascii=False)  # trilha \"raw\"\n",
    "}]\n",
    "\n",
    "schema = StructType([\n",
    "    StructField(\"base\", StringType(), True),\n",
    "    StructField(\"symbol\", StringType(), True),\n",
    "    StructField(\"rate\", DoubleType(), True),\n",
    "    StructField(\"ref_date\", StringType(), True),\n",
    "    StructField(\"ingestion_epoch\",  StringType(), True),\n",
    "    StructField(\"raw_json\", StringType(), True),\n",
    "])\n",
    "\n",
    "df_bronze = spark.createDataFrame(record, schema)\\\n",
    "                 .withColumn(\"ingestion_ts\", F.current_timestamp())\n",
    "\n",
    "# 3) Escreve/Anexa em Delta (Bronze)\n",
    "(\n",
    "    df_bronze\n",
    "    .write\n",
    "    .format(\"delta\")\n",
    "    .mode(\"append\")\n",
    "    .save(bronze_delta_path)\n",
    ")\n",
    "\n",
    "print(\"Bronze ✅ gravado em:\", bronze_delta_path)\n",
    "display(spark.read.format(\"delta\").load(bronze_delta_path).orderBy(F.col(\"ingestion_ts\").desc()))\n"
   ]
  }
 ],
 "metadata": {
  "application/vnd.databricks.v1+notebook": {
   "computePreferences": null,
   "dashboards": [],
   "environmentMetadata": {
    "base_environment": "",
    "environment_version": "2"
   },
   "inputWidgetPreferences": null,
   "language": "python",
   "notebookMetadata": {
    "pythonIndentUnit": 4
   },
   "notebookName": "01_ingest_fx_usdbrl_bronze",
   "widgets": {}
  },
  "language_info": {
   "name": "python"
  }
 },
 "nbformat": 4,
 "nbformat_minor": 0
}
